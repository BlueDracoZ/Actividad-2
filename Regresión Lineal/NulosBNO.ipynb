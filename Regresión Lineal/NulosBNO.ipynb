{
 "cells": [
  {
   "cell_type": "code",
   "execution_count": 1,
   "metadata": {},
   "outputs": [],
   "source": [
    "import pandas as pd\n",
    "import numpy as np\n",
    "import matplotlib.pyplot as plt\n",
    "import seaborn as sns\n",
    "from funpymodeling.exploratory import freq_tbl\n",
    "import re"
   ]
  },
  {
   "cell_type": "code",
   "execution_count": 2,
   "metadata": {},
   "outputs": [
    {
     "name": "stderr",
     "output_type": "stream",
     "text": [
      "C:\\Users\\andre\\AppData\\Local\\Temp\\ipykernel_23196\\1835407192.py:1: DtypeWarning: Columns (26,31,33) have mixed types. Specify dtype option on import or set low_memory=False.\n",
      "  df=pd.read_csv(\"cuentas_credicel.csv\",encoding=\"latin\")\n"
     ]
    }
   ],
   "source": [
    "df=pd.read_csv(\"cuentas_credicel.csv\",encoding=\"latin\")"
   ]
  },
  {
   "cell_type": "code",
   "execution_count": 3,
   "metadata": {},
   "outputs": [
    {
     "name": "stdout",
     "output_type": "stream",
     "text": [
      "<class 'pandas.core.frame.DataFrame'>\n",
      "RangeIndex: 22735 entries, 0 to 22734\n",
      "Data columns (total 37 columns):\n",
      " #   Column              Non-Null Count  Dtype  \n",
      "---  ------              --------------  -----  \n",
      " 0   folio               22735 non-null  int64  \n",
      " 1   tag                 22735 non-null  object \n",
      " 2   folio_solicitud     22735 non-null  int64  \n",
      " 3   fecha               22735 non-null  object \n",
      " 4   marca               22735 non-null  object \n",
      " 5   modelo              22735 non-null  object \n",
      " 6   plazo               22735 non-null  object \n",
      " 7   precio              22735 non-null  float64\n",
      " 8   enganche            22735 non-null  float64\n",
      " 9   descuento           22735 non-null  float64\n",
      " 10  semana              22735 non-null  float64\n",
      " 11  monto_financiado    22735 non-null  float64\n",
      " 12  costo_total         22735 non-null  float64\n",
      " 13  monto_accesorios    22735 non-null  float64\n",
      " 14  agente_venta        22735 non-null  object \n",
      " 15  dis_venta           22735 non-null  object \n",
      " 16  status              22735 non-null  float64\n",
      " 17  fraude              22735 non-null  float64\n",
      " 18  empresa             22722 non-null  object \n",
      " 19  inversion           22735 non-null  float64\n",
      " 20  pagos_realizados    22735 non-null  float64\n",
      " 21  reautorizacion      22735 non-null  float64\n",
      " 22  fecha_ultimo_pago   19379 non-null  object \n",
      " 23  fecha_pago_proximo  19379 non-null  object \n",
      " 24  status_cuenta       18538 non-null  object \n",
      " 25  puntos              19140 non-null  float64\n",
      " 26  riesgo              20262 non-null  object \n",
      " 27  porc_enganche       20262 non-null  float64\n",
      " 28  porc_tasa           22735 non-null  float64\n",
      " 29  score_buro          22735 non-null  float64\n",
      " 30  razones_buro        18230 non-null  object \n",
      " 31  semana_actual       18230 non-null  object \n",
      " 32  codigo_postal       22050 non-null  object \n",
      " 33  Unnamed: 33         859 non-null    object \n",
      " 34  Unnamed: 34         0 non-null      float64\n",
      " 35  Unnamed: 35         0 non-null      float64\n",
      " 36  Unnamed: 36         1 non-null      float64\n",
      "dtypes: float64(19), int64(2), object(16)\n",
      "memory usage: 6.4+ MB\n"
     ]
    }
   ],
   "source": [
    "df.info()"
   ]
  },
  {
   "cell_type": "code",
   "execution_count": 4,
   "metadata": {},
   "outputs": [
    {
     "name": "stdout",
     "output_type": "stream",
     "text": [
      "folio                     0\n",
      "tag                       0\n",
      "folio_solicitud           0\n",
      "fecha                     0\n",
      "marca                     0\n",
      "modelo                    0\n",
      "plazo                     0\n",
      "precio                    0\n",
      "enganche                  0\n",
      "descuento                 0\n",
      "semana                    0\n",
      "monto_financiado          0\n",
      "costo_total               0\n",
      "monto_accesorios          0\n",
      "agente_venta              0\n",
      "dis_venta                 0\n",
      "status                    0\n",
      "fraude                    0\n",
      "empresa                  13\n",
      "inversion                 0\n",
      "pagos_realizados          0\n",
      "reautorizacion            0\n",
      "fecha_ultimo_pago      3356\n",
      "fecha_pago_proximo     3356\n",
      "status_cuenta          4197\n",
      "puntos                 3595\n",
      "riesgo                 2473\n",
      "porc_enganche          2473\n",
      "porc_tasa                 0\n",
      "score_buro                0\n",
      "razones_buro           4505\n",
      "semana_actual          4505\n",
      "codigo_postal           685\n",
      "Unnamed: 33           21876\n",
      "Unnamed: 34           22735\n",
      "Unnamed: 35           22735\n",
      "Unnamed: 36           22734\n",
      "dtype: int64\n"
     ]
    }
   ],
   "source": [
    "print(df.isnull().sum())"
   ]
  },
  {
   "cell_type": "code",
   "execution_count": 5,
   "metadata": {},
   "outputs": [],
   "source": [
    "df[\"monto_accesorios\"].fillna(0,inplace = True)\n"
   ]
  },
  {
   "cell_type": "code",
   "execution_count": 6,
   "metadata": {},
   "outputs": [],
   "source": [
    "df[\"fecha_ultimo_pago\"].fillna(\"DESCONOCIDO\",inplace = True)\n"
   ]
  },
  {
   "cell_type": "code",
   "execution_count": 7,
   "metadata": {},
   "outputs": [],
   "source": [
    "df[\"fecha_pago_proximo\"].fillna(\"DESCONOCIDO\",inplace = True)"
   ]
  },
  {
   "cell_type": "code",
   "execution_count": 8,
   "metadata": {},
   "outputs": [],
   "source": [
    "x=df[\"empresa\"].mode()\n",
    "x\n",
    "df[\"empresa\"].fillna(\"microtec\",inplace = True)"
   ]
  },
  {
   "cell_type": "code",
   "execution_count": 9,
   "metadata": {},
   "outputs": [],
   "source": [
    "cols_to_exclude = ['Unnamed: 33', 'Unnamed: 34', 'Unnamed: 35', 'Unnamed: 36']\n",
    "dfsel = df.drop(columns=cols_to_exclude)"
   ]
  },
  {
   "cell_type": "code",
   "execution_count": 10,
   "metadata": {},
   "outputs": [
    {
     "name": "stdout",
     "output_type": "stream",
     "text": [
      "folio                    0\n",
      "tag                      0\n",
      "folio_solicitud          0\n",
      "fecha                    0\n",
      "marca                    0\n",
      "modelo                   0\n",
      "plazo                    0\n",
      "precio                   0\n",
      "enganche                 0\n",
      "descuento                0\n",
      "semana                   0\n",
      "monto_financiado         0\n",
      "costo_total              0\n",
      "monto_accesorios         0\n",
      "agente_venta             0\n",
      "dis_venta                0\n",
      "status                   0\n",
      "fraude                   0\n",
      "empresa                  0\n",
      "inversion                0\n",
      "pagos_realizados         0\n",
      "reautorizacion           0\n",
      "fecha_ultimo_pago        0\n",
      "fecha_pago_proximo       0\n",
      "status_cuenta         4197\n",
      "puntos                3595\n",
      "riesgo                2473\n",
      "porc_enganche         2473\n",
      "porc_tasa                0\n",
      "score_buro               0\n",
      "razones_buro          4505\n",
      "semana_actual         4505\n",
      "codigo_postal          685\n",
      "dtype: int64\n"
     ]
    }
   ],
   "source": [
    "print(dfsel.isnull().sum())"
   ]
  },
  {
   "cell_type": "code",
   "execution_count": 11,
   "metadata": {},
   "outputs": [],
   "source": [
    "def update_status(row):\n",
    "    if row['status'] == 1 and row['status_cuenta'] == 'Mora':\n",
    "        return 3\n",
    "    else:\n",
    "        return row['status']\n",
    "\n",
    "dfsel['status'] = dfsel.apply(update_status, axis=1)\n"
   ]
  },
  {
   "cell_type": "code",
   "execution_count": 12,
   "metadata": {},
   "outputs": [],
   "source": [
    "def update_status_cuenta(row):\n",
    "    if row['status'] == 1:\n",
    "        return 'Corriente'\n",
    "    elif row['status'] == 2:\n",
    "        return 'Atrasado'\n",
    "    elif row['status'] == 3:\n",
    "        return 'Mora'\n",
    "    elif row['status'] == 0:\n",
    "        return 'Cancelado'\n",
    "    else:\n",
    "        return row['status_cuenta']\n",
    "\n",
    "dfsel['status_cuenta'] = dfsel.apply(update_status_cuenta, axis=1)"
   ]
  },
  {
   "cell_type": "code",
   "execution_count": 13,
   "metadata": {},
   "outputs": [],
   "source": [
    "dfsel[\"status_cuenta\"].fillna(\"DESCONOCIDO\",inplace = True)"
   ]
  },
  {
   "cell_type": "code",
   "execution_count": 14,
   "metadata": {},
   "outputs": [],
   "source": [
    "dfsel['riesgo'] = dfsel['riesgo'].replace('Cancelado', 0)\n",
    "dfsel['riesgo'] = dfsel['riesgo'].replace('Fraude', 0)\n",
    "dfsel['riesgo'] = dfsel['riesgo'].replace('Atraso', 0)\n",
    "dfsel['riesgo'] = pd.to_numeric(dfsel['riesgo'])\n"
   ]
  },
  {
   "cell_type": "code",
   "execution_count": 15,
   "metadata": {},
   "outputs": [],
   "source": [
    "def categorize_riesgo(val):\n",
    "    if pd.isna(val):\n",
    "        return None\n",
    "    if val == -100:\n",
    "        return 'No hay riesgo'\n",
    "    elif -99 <= val <= -52:\n",
    "        return 'Riesgo minimo'\n",
    "    elif -51 <= val <= -1:\n",
    "        return 'Hay poco riesgo'\n",
    "    elif val == 0:\n",
    "        return 'Hay riesgo'\n",
    "    elif 1 <= val <= 51:\n",
    "        return 'Riesgo considerable'\n",
    "    elif 52 <= val <= 99:\n",
    "        return 'Riesgo Alto'\n",
    "    elif val == 100:\n",
    "        return 'Riesgo Enorme'\n",
    "\n",
    "dfsel['riesgo_categorizado'] = dfsel['riesgo'].apply(categorize_riesgo)\n"
   ]
  },
  {
   "cell_type": "code",
   "execution_count": 16,
   "metadata": {},
   "outputs": [],
   "source": [
    "dfsel[\"riesgo\"].fillna(\"No Hay Datos\",inplace = True)"
   ]
  },
  {
   "cell_type": "code",
   "execution_count": 17,
   "metadata": {},
   "outputs": [],
   "source": [
    "dfsel[\"puntos\"].fillna(0,inplace = True)"
   ]
  },
  {
   "cell_type": "code",
   "execution_count": 18,
   "metadata": {},
   "outputs": [],
   "source": [
    "dfsel[\"porc_enganche\"].fillna(0,inplace = True)"
   ]
  },
  {
   "cell_type": "code",
   "execution_count": 19,
   "metadata": {},
   "outputs": [],
   "source": [
    "dfsel[\"razones_buro\"].fillna(0,inplace = True)"
   ]
  },
  {
   "cell_type": "code",
   "execution_count": 20,
   "metadata": {},
   "outputs": [],
   "source": [
    "dfsel[\"semana_actual\"].fillna(0,inplace = True)"
   ]
  },
  {
   "cell_type": "code",
   "execution_count": 21,
   "metadata": {},
   "outputs": [],
   "source": [
    "dfsel[\"codigo_postal\"].fillna(0,inplace = True)"
   ]
  },
  {
   "cell_type": "code",
   "execution_count": 22,
   "metadata": {},
   "outputs": [],
   "source": [
    "dfsel[\"riesgo_categorizado\"].fillna(\"Hay riesgo\",inplace = True)\n"
   ]
  },
  {
   "cell_type": "code",
   "execution_count": 23,
   "metadata": {},
   "outputs": [
    {
     "name": "stdout",
     "output_type": "stream",
     "text": [
      "folio                  0\n",
      "tag                    0\n",
      "folio_solicitud        0\n",
      "fecha                  0\n",
      "marca                  0\n",
      "modelo                 0\n",
      "plazo                  0\n",
      "precio                 0\n",
      "enganche               0\n",
      "descuento              0\n",
      "semana                 0\n",
      "monto_financiado       0\n",
      "costo_total            0\n",
      "monto_accesorios       0\n",
      "agente_venta           0\n",
      "dis_venta              0\n",
      "status                 0\n",
      "fraude                 0\n",
      "empresa                0\n",
      "inversion              0\n",
      "pagos_realizados       0\n",
      "reautorizacion         0\n",
      "fecha_ultimo_pago      0\n",
      "fecha_pago_proximo     0\n",
      "status_cuenta          0\n",
      "puntos                 0\n",
      "riesgo                 0\n",
      "porc_enganche          0\n",
      "porc_tasa              0\n",
      "score_buro             0\n",
      "razones_buro           0\n",
      "semana_actual          0\n",
      "codigo_postal          0\n",
      "riesgo_categorizado    0\n",
      "dtype: int64\n"
     ]
    }
   ],
   "source": [
    "print(dfsel.isnull().sum())"
   ]
  },
  {
   "cell_type": "code",
   "execution_count": 24,
   "metadata": {},
   "outputs": [],
   "source": [
    "dfsel['plazo'] = dfsel['plazo'].str.extract('(\\d+)').astype(int)"
   ]
  },
  {
   "cell_type": "code",
   "execution_count": 25,
   "metadata": {},
   "outputs": [],
   "source": [
    "num_df = dfsel[['plazo', 'precio', 'enganche', 'descuento', 'semana', 'monto_financiado', 'costo_total', 'monto_accesorios', 'status', 'fraude', 'inversion', 'pagos_realizados', 'reautorizacion', 'puntos', 'porc_enganche', 'porc_tasa', 'score_buro']]\n"
   ]
  },
  {
   "cell_type": "code",
   "execution_count": 26,
   "metadata": {},
   "outputs": [],
   "source": [
    "cat_df = dfsel.drop(columns=['plazo', 'precio', 'enganche', 'descuento', 'semana', 'monto_financiado', 'costo_total', 'monto_accesorios', 'status', 'fraude', 'inversion', 'pagos_realizados', 'reautorizacion', 'puntos', 'porc_enganche', 'porc_tasa', 'score_buro'])\n"
   ]
  },
  {
   "cell_type": "code",
   "execution_count": 27,
   "metadata": {},
   "outputs": [
    {
     "data": {
      "text/plain": [
       "<Axes: >"
      ]
     },
     "execution_count": 27,
     "metadata": {},
     "output_type": "execute_result"
    },
    {
     "data": {
      "image/png": "[encoded data removed]",
      "text/plain": [
       "<Figure size 640x480 with 1 Axes>"
      ]
     },
     "metadata": {},
     "output_type": "display_data"
    }
   ],
   "source": [
    "sns.boxplot(data=num_df)"
   ]
  },
  {
   "cell_type": "code",
   "execution_count": 28,
   "metadata": {},
   "outputs": [
    {
     "name": "stdout",
     "output_type": "stream",
     "text": [
      "<class 'pandas.core.frame.DataFrame'>\n",
      "RangeIndex: 22735 entries, 0 to 22734\n",
      "Data columns (total 17 columns):\n",
      " #   Column               Non-Null Count  Dtype \n",
      "---  ------               --------------  ----- \n",
      " 0   folio                22735 non-null  int64 \n",
      " 1   tag                  22735 non-null  object\n",
      " 2   folio_solicitud      22735 non-null  int64 \n",
      " 3   fecha                22735 non-null  object\n",
      " 4   marca                22735 non-null  object\n",
      " 5   modelo               22735 non-null  object\n",
      " 6   agente_venta         22735 non-null  object\n",
      " 7   dis_venta            22735 non-null  object\n",
      " 8   empresa              22735 non-null  object\n",
      " 9   fecha_ultimo_pago    22735 non-null  object\n",
      " 10  fecha_pago_proximo   22735 non-null  object\n",
      " 11  status_cuenta        22735 non-null  object\n",
      " 12  riesgo               22735 non-null  object\n",
      " 13  razones_buro         22735 non-null  object\n",
      " 14  semana_actual        22735 non-null  object\n",
      " 15  codigo_postal        22735 non-null  object\n",
      " 16  riesgo_categorizado  22735 non-null  object\n",
      "dtypes: int64(2), object(15)\n",
      "memory usage: 2.9+ MB\n"
     ]
    }
   ],
   "source": [
    "cat_df.info()"
   ]
  },
  {
   "cell_type": "code",
   "execution_count": 29,
   "metadata": {},
   "outputs": [
    {
     "name": "stdout",
     "output_type": "stream",
     "text": [
      "<class 'pandas.core.frame.DataFrame'>\n",
      "RangeIndex: 22735 entries, 0 to 22734\n",
      "Data columns (total 17 columns):\n",
      " #   Column            Non-Null Count  Dtype  \n",
      "---  ------            --------------  -----  \n",
      " 0   plazo             22735 non-null  int32  \n",
      " 1   precio            22735 non-null  float64\n",
      " 2   enganche          22735 non-null  float64\n",
      " 3   descuento         22735 non-null  float64\n",
      " 4   semana            22735 non-null  float64\n",
      " 5   monto_financiado  22735 non-null  float64\n",
      " 6   costo_total       22735 non-null  float64\n",
      " 7   monto_accesorios  22735 non-null  float64\n",
      " 8   status            22735 non-null  float64\n",
      " 9   fraude            22735 non-null  float64\n",
      " 10  inversion         22735 non-null  float64\n",
      " 11  pagos_realizados  22735 non-null  float64\n",
      " 12  reautorizacion    22735 non-null  float64\n",
      " 13  puntos            22735 non-null  float64\n",
      " 14  porc_enganche     22735 non-null  float64\n",
      " 15  porc_tasa         22735 non-null  float64\n",
      " 16  score_buro        22735 non-null  float64\n",
      "dtypes: float64(16), int32(1)\n",
      "memory usage: 2.9 MB\n"
     ]
    }
   ],
   "source": [
    "num_df.info()"
   ]
  },
  {
   "cell_type": "code",
   "execution_count": 30,
   "metadata": {},
   "outputs": [
    {
     "name": "stdout",
     "output_type": "stream",
     "text": [
      "       plazo  precio  enganche  descuento  semana  monto_financiado  \\\n",
      "0         26  1949.0     780.0        0.0    81.0            1169.0   \n",
      "1         13  2999.0    1050.0        0.0   225.0            1949.0   \n",
      "2         13  1959.0     490.0        0.0   170.0            1469.0   \n",
      "3         13  1959.0     490.0        0.0   170.0            1469.0   \n",
      "4         39  4299.0    1075.0        0.0   178.0            3224.0   \n",
      "...      ...     ...       ...        ...     ...               ...   \n",
      "22730     26  3349.0     297.0        0.0   211.0            3052.0   \n",
      "22731     26  4100.0    1209.0        0.0   200.0            2891.0   \n",
      "22732     26  4849.0    1152.0        0.0   256.0            3697.0   \n",
      "22733     39     NaN       NaN        0.0   386.0               NaN   \n",
      "22734     26  5399.0    1086.0        0.0   299.0            4313.0   \n",
      "\n",
      "       costo_total  monto_accesorios  status  fraude  inversion  \\\n",
      "0           2106.0               0.0     2.0     0.0        0.0   \n",
      "1           2925.0               0.0     2.0     0.0        0.0   \n",
      "2           2210.0               0.0     3.0     0.0        0.0   \n",
      "3           2210.0               0.0     2.0     0.0        0.0   \n",
      "4           6942.0               0.0     3.0     0.0        0.0   \n",
      "...            ...               ...     ...     ...        ...   \n",
      "22730       5486.0               0.0     1.0     0.0        0.0   \n",
      "22731       5200.0               0.0     1.0     0.0        0.0   \n",
      "22732       6656.0               0.0     1.0     0.0        0.0   \n",
      "22733          NaN               0.0     1.0     0.0        0.0   \n",
      "22734       7774.0               0.0     1.0     0.0        NaN   \n",
      "\n",
      "       pagos_realizados  reautorizacion  puntos  porc_enganche  porc_tasa  \\\n",
      "0                   0.0             0.0     NaN            0.0        0.0   \n",
      "1                   0.0             0.0     NaN            0.0        0.0   \n",
      "2                   0.0             0.0     NaN            0.0        0.0   \n",
      "3                   0.0             0.0     NaN            0.0        0.0   \n",
      "4                   0.0             0.0     NaN            0.0        0.0   \n",
      "...                 ...             ...     ...            ...        ...   \n",
      "22730               0.0             0.0     NaN            NaN        NaN   \n",
      "22731               0.0             0.0     NaN            NaN        NaN   \n",
      "22732               0.0             0.0     NaN            NaN        NaN   \n",
      "22733               0.0             0.0     NaN            NaN        NaN   \n",
      "22734               0.0             0.0     NaN            NaN        NaN   \n",
      "\n",
      "       score_buro  \n",
      "0             0.0  \n",
      "1             0.0  \n",
      "2             0.0  \n",
      "3             0.0  \n",
      "4             0.0  \n",
      "...           ...  \n",
      "22730         0.0  \n",
      "22731         0.0  \n",
      "22732         0.0  \n",
      "22733         0.0  \n",
      "22734         0.0  \n",
      "\n",
      "[22735 rows x 17 columns]\n"
     ]
    }
   ],
   "source": [
    "y = num_df\n",
    "percentile25 = y.quantile(0.25)\n",
    "percentile75 = y.quantile(0.75)\n",
    "iqr = percentile75 - percentile25\n",
    "lower_bound = percentile25 - (1.5 * iqr)\n",
    "upper_bound = percentile75 + (1.5 * iqr)\n",
    "cleaned_data = num_df[(num_df >= lower_bound) & (num_df <= upper_bound)]\n",
    "\n",
    "print(cleaned_data)"
   ]
  },
  {
   "cell_type": "code",
   "execution_count": 31,
   "metadata": {},
   "outputs": [
    {
     "data": {
      "text/plain": [
       "<Axes: >"
      ]
     },
     "execution_count": 31,
     "metadata": {},
     "output_type": "execute_result"
    },
    {
     "data": {
      "image/png": "[encoded data removed]",
      "text/plain": [
       "<Figure size 640x480 with 1 Axes>"
      ]
     },
     "metadata": {},
     "output_type": "display_data"
    }
   ],
   "source": [
    "sns.boxplot(data=cleaned_data)"
   ]
  },
  {
   "cell_type": "code",
   "execution_count": 32,
   "metadata": {},
   "outputs": [
    {
     "name": "stdout",
     "output_type": "stream",
     "text": [
      "28325\n"
     ]
    }
   ],
   "source": [
    "print(cleaned_data.isnull().sum())"
   ]
  },
  {
   "cell_type": "code",
   "execution_count": 33,
   "metadata": {},
   "outputs": [
    {
     "name": "stdout",
     "output_type": "stream",
     "text": [
      "3935.5\n",
      "866.9\n",
      "224.5\n"
     ]
    }
   ],
   "source": [
    "x=round(cleaned_data[\"precio\"].mean(),1)\n",
    "print(x)\n",
    "cleaned_data[\"precio\"].fillna(x,inplace = True)\n",
    "y=round(cleaned_data[\"enganche\"].mean(),1)\n",
    "print(y)\n",
    "cleaned_data[\"enganche\"].fillna(y,inplace = True)\n",
    "z=round(cleaned_data[\"semana\"].mean(),1)\n",
    "print(z)\n",
    "cleaned_data[\"semana\"].fillna(z,inplace = True)"
   ]
  },
  {
   "cell_type": "code",
   "execution_count": 34,
   "metadata": {},
   "outputs": [
    {
     "name": "stdout",
     "output_type": "stream",
     "text": [
      "3001.8\n",
      "5448.5\n",
      "0.0\n"
     ]
    }
   ],
   "source": [
    "x=round(cleaned_data[\"monto_financiado\"].mean(),1)\n",
    "print(x)\n",
    "cleaned_data[\"monto_financiado\"].fillna(x,inplace = True)\n",
    "y=round(cleaned_data[\"costo_total\"].mean(),1)\n",
    "print(y)\n",
    "cleaned_data[\"costo_total\"].fillna(y,inplace = True)\n",
    "z=round(cleaned_data[\"monto_accesorios\"].mean(),1)\n",
    "print(z)\n",
    "cleaned_data[\"monto_accesorios\"].fillna(z,inplace = True)"
   ]
  },
  {
   "cell_type": "code",
   "execution_count": 35,
   "metadata": {},
   "outputs": [
    {
     "name": "stdout",
     "output_type": "stream",
     "text": [
      "1.7\n",
      "0.0\n",
      "0.0\n"
     ]
    }
   ],
   "source": [
    "x=round(cleaned_data[\"status\"].mean(),1)\n",
    "print(x)\n",
    "cleaned_data[\"status\"].fillna(x,inplace = True)\n",
    "y=round(cleaned_data[\"fraude\"].mean(),1)\n",
    "print(y)\n",
    "cleaned_data[\"fraude\"].fillna(y,inplace = True)\n",
    "z=round(cleaned_data[\"inversion\"].mean(),1)\n",
    "print(z)\n",
    "cleaned_data[\"inversion\"].fillna(z,inplace = True)"
   ]
  },
  {
   "cell_type": "code",
   "execution_count": 36,
   "metadata": {},
   "outputs": [
    {
     "name": "stdout",
     "output_type": "stream",
     "text": [
      "9.5\n",
      "0.0\n",
      "11.7\n"
     ]
    }
   ],
   "source": [
    "x=round(cleaned_data[\"pagos_realizados\"].mean(),1)\n",
    "print(x)\n",
    "cleaned_data[\"pagos_realizados\"].fillna(x,inplace = True)\n",
    "y=round(cleaned_data[\"reautorizacion\"].mean(),1)\n",
    "print(y)\n",
    "cleaned_data[\"reautorizacion\"].fillna(y,inplace = True)\n",
    "z=round(cleaned_data[\"puntos\"].mean(),1)\n",
    "print(z)\n",
    "cleaned_data[\"puntos\"].fillna(z,inplace = True)"
   ]
  },
  {
   "cell_type": "code",
   "execution_count": 37,
   "metadata": {},
   "outputs": [
    {
     "name": "stdout",
     "output_type": "stream",
     "text": [
      "-0.5\n",
      "0.0\n",
      "0.0\n"
     ]
    }
   ],
   "source": [
    "x=round(cleaned_data[\"porc_enganche\"].mean(),1)\n",
    "print(x)\n",
    "cleaned_data[\"porc_enganche\"].fillna(x,inplace = True)\n",
    "y=round(cleaned_data[\"porc_tasa\"].mean(),1)\n",
    "print(y)\n",
    "cleaned_data[\"porc_tasa\"].fillna(y,inplace = True)\n",
    "z=round(cleaned_data[\"score_buro\"].mean(),1)\n",
    "print(z)\n",
    "cleaned_data[\"score_buro\"].fillna(z,inplace = True)"
   ]
  },
  {
   "cell_type": "code",
   "execution_count": 38,
   "metadata": {},
   "outputs": [
    {
     "name": "stdout",
     "output_type": "stream",
     "text": [
      "plazo               0\n",
      "precio              0\n",
      "enganche            0\n",
      "descuento           0\n",
      "semana              0\n",
      "monto_financiado    0\n",
      "costo_total         0\n",
      "monto_accesorios    0\n",
      "status              0\n",
      "fraude              0\n",
      "inversion           0\n",
      "pagos_realizados    0\n",
      "reautorizacion      0\n",
      "puntos              0\n",
      "porc_enganche       0\n",
      "porc_tasa           0\n",
      "score_buro          0\n",
      "dtype: int64\n"
     ]
    }
   ],
   "source": [
    "print(cleaned_data.isnull().sum())"
   ]
  },
  {
   "cell_type": "code",
   "execution_count": 39,
   "metadata": {},
   "outputs": [],
   "source": [
    "Df_colo = pd.concat([cleaned_data, cat_df], axis=1)"
   ]
  },
  {
   "cell_type": "code",
   "execution_count": 40,
   "metadata": {},
   "outputs": [],
   "source": [
    "Df_colo.to_csv(\"Credicel_Limpio1.csv\")"
   ]
  }
 ],
 "metadata": {
  "kernelspec": {
   "display_name": "Python 3",
   "language": "python",
   "name": "python3"
  },
  "language_info": {
   "codemirror_mode": {
    "name": "ipython",
    "version": 3
   },
   "file_extension": ".py",
   "mimetype": "text/x-python",
   "name": "python",
   "nbconvert_exporter": "python",
   "pygments_lexer": "ipython3",
   "version": "3.11.4"
  },
  "orig_nbformat": 4
 },
 "nbformat": 4,
 "nbformat_minor": 2
}
