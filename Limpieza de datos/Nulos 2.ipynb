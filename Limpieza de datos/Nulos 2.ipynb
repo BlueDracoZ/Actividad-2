{
 "cells": [
  {
   "cell_type": "code",
   "execution_count": 1,
   "metadata": {},
   "outputs": [],
   "source": [
    "import pandas as pd\n",
    "import numpy as np\n",
    "import matplotlib.pyplot as plt\n",
    "import seaborn as sns\n",
    "from funpymodeling.exploratory import freq_tbl\n",
    "import re"
   ]
  },
  {
   "cell_type": "code",
   "execution_count": 2,
   "metadata": {},
   "outputs": [
    {
     "name": "stderr",
     "output_type": "stream",
     "text": [
      "C:\\Users\\andre\\AppData\\Local\\Temp\\ipykernel_26408\\1835407192.py:1: DtypeWarning: Columns (26,31,33) have mixed types. Specify dtype option on import or set low_memory=False.\n",
      "  df=pd.read_csv(\"cuentas_credicel.csv\",encoding=\"latin\")\n"
     ]
    }
   ],
   "source": [
    "df=pd.read_csv(\"cuentas_credicel.csv\",encoding=\"latin\")"
   ]
  },
  {
   "cell_type": "code",
   "execution_count": 3,
   "metadata": {},
   "outputs": [
    {
     "name": "stdout",
     "output_type": "stream",
     "text": [
      "folio                     0\n",
      "tag                       0\n",
      "folio_solicitud           0\n",
      "fecha                     0\n",
      "marca                     0\n",
      "modelo                    0\n",
      "plazo                     0\n",
      "precio                    0\n",
      "enganche                  0\n",
      "descuento                 0\n",
      "semana                    0\n",
      "monto_financiado          0\n",
      "costo_total               0\n",
      "monto_accesorios          0\n",
      "agente_venta              0\n",
      "dis_venta                 0\n",
      "status                    0\n",
      "fraude                    0\n",
      "empresa                  13\n",
      "inversion                 0\n",
      "pagos_realizados          0\n",
      "reautorizacion            0\n",
      "fecha_ultimo_pago      3356\n",
      "fecha_pago_proximo     3356\n",
      "status_cuenta          4197\n",
      "puntos                 3595\n",
      "riesgo                 2473\n",
      "porc_enganche          2473\n",
      "porc_tasa                 0\n",
      "score_buro                0\n",
      "razones_buro           4505\n",
      "semana_actual          4505\n",
      "codigo_postal           685\n",
      "Unnamed: 33           21876\n",
      "Unnamed: 34           22735\n",
      "Unnamed: 35           22735\n",
      "Unnamed: 36           22734\n",
      "dtype: int64\n"
     ]
    }
   ],
   "source": [
    "print(df.isnull().sum())"
   ]
  },
  {
   "cell_type": "code",
   "execution_count": 4,
   "metadata": {},
   "outputs": [],
   "source": [
    "cols_to_exclude = ['Unnamed: 33', 'Unnamed: 34', 'Unnamed: 35', 'Unnamed: 36']\n",
    "df = df.drop(columns=cols_to_exclude)"
   ]
  },
  {
   "cell_type": "code",
   "execution_count": 5,
   "metadata": {},
   "outputs": [],
   "source": [
    "x=df[\"fecha_ultimo_pago\"].mode()\n",
    "x\n",
    "df[\"fecha_ultimo_pago\"].fillna(\"15/04/2023 00:00\",inplace = True)"
   ]
  },
  {
   "cell_type": "code",
   "execution_count": 6,
   "metadata": {},
   "outputs": [],
   "source": [
    "x=df[\"fecha_pago_proximo\"].mode()\n",
    "x\n",
    "df[\"fecha_pago_proximo\"].fillna(\"22/04/2023 00:00\",inplace = True)"
   ]
  },
  {
   "cell_type": "code",
   "execution_count": 7,
   "metadata": {},
   "outputs": [],
   "source": [
    "x=df[\"empresa\"].mode()\n",
    "x\n",
    "df[\"empresa\"].fillna(\"microtec\",inplace = True)"
   ]
  },
  {
   "cell_type": "code",
   "execution_count": 8,
   "metadata": {},
   "outputs": [],
   "source": [
    "df['plazo'] = df['plazo'].str.extract('(\\d+)').astype(int)"
   ]
  },
  {
   "cell_type": "code",
   "execution_count": 9,
   "metadata": {},
   "outputs": [],
   "source": [
    "x=df[\"puntos\"].mode()\n",
    "x\n",
    "df[\"puntos\"].fillna(12.0,inplace = True)"
   ]
  },
  {
   "cell_type": "code",
   "execution_count": 10,
   "metadata": {},
   "outputs": [],
   "source": [
    "x=df[\"riesgo\"].mode()\n",
    "x\n",
    "df[\"riesgo\"].fillna(0,inplace = True)"
   ]
  },
  {
   "cell_type": "code",
   "execution_count": 11,
   "metadata": {},
   "outputs": [],
   "source": [
    "x=df[\"status_cuenta\"].mode()\n",
    "x\n",
    "df[\"status_cuenta\"].fillna(\"Corriente\",inplace = True)"
   ]
  },
  {
   "cell_type": "code",
   "execution_count": 12,
   "metadata": {},
   "outputs": [],
   "source": [
    "x=df[\"porc_enganche\"].mode()\n",
    "x\n",
    "df[\"porc_enganche\"].fillna(0,inplace = True)"
   ]
  },
  {
   "cell_type": "code",
   "execution_count": 13,
   "metadata": {},
   "outputs": [],
   "source": [
    "x=df[\"razones_buro\"].mode()\n",
    "x\n",
    "df[\"razones_buro\"].fillna(\"C2\",inplace = True)"
   ]
  },
  {
   "cell_type": "code",
   "execution_count": 14,
   "metadata": {},
   "outputs": [],
   "source": [
    "x=df[\"semana_actual\"].mode()\n",
    "x\n",
    "df[\"semana_actual\"].fillna(0.0,inplace = True)"
   ]
  },
  {
   "cell_type": "code",
   "execution_count": 15,
   "metadata": {},
   "outputs": [],
   "source": [
    "x=df[\"codigo_postal\"].mode()\n",
    "x\n",
    "df[\"codigo_postal\"].fillna(0.00,inplace = True)"
   ]
  },
  {
   "cell_type": "code",
   "execution_count": 16,
   "metadata": {},
   "outputs": [
    {
     "name": "stdout",
     "output_type": "stream",
     "text": [
      "0\n"
     ]
    }
   ],
   "source": [
    "print(df.isnull().sum().sum())"
   ]
  },
  {
   "cell_type": "code",
   "execution_count": 17,
   "metadata": {},
   "outputs": [],
   "source": [
    "num_df = df[['plazo', 'precio', 'enganche', 'descuento', 'semana', 'monto_financiado', 'costo_total', 'monto_accesorios', 'status', 'fraude', 'inversion', 'pagos_realizados', 'reautorizacion', 'puntos', 'porc_enganche', 'porc_tasa', 'score_buro']]"
   ]
  },
  {
   "cell_type": "code",
   "execution_count": 18,
   "metadata": {},
   "outputs": [],
   "source": [
    "cat_df = df.drop(columns=['plazo', 'precio', 'enganche', 'descuento', 'semana', 'monto_financiado', 'costo_total', 'monto_accesorios', 'status', 'fraude', 'inversion', 'pagos_realizados', 'reautorizacion', 'puntos', 'porc_enganche', 'porc_tasa', 'score_buro'])\n"
   ]
  },
  {
   "cell_type": "code",
   "execution_count": 19,
   "metadata": {},
   "outputs": [
    {
     "data": {
      "text/plain": [
       "<Axes: >"
      ]
     },
     "execution_count": 19,
     "metadata": {},
     "output_type": "execute_result"
    },
    {
     "data": {
      "image/png": "[encoded data removed]",
      "text/plain": [
       "<Figure size 640x480 with 1 Axes>"
      ]
     },
     "metadata": {},
     "output_type": "display_data"
    }
   ],
   "source": [
    "sns.boxplot(data=num_df)"
   ]
  },
  {
   "cell_type": "code",
   "execution_count": 20,
   "metadata": {},
   "outputs": [
    {
     "name": "stdout",
     "output_type": "stream",
     "text": [
      "       plazo  precio  enganche  descuento  semana  monto_financiado  \\\n",
      "0         26  1949.0     780.0        0.0    81.0            1169.0   \n",
      "1         13  2999.0    1050.0        0.0   225.0            1949.0   \n",
      "2         13  1959.0     490.0        0.0   170.0            1469.0   \n",
      "3         13  1959.0     490.0        0.0   170.0            1469.0   \n",
      "4         39  4299.0    1075.0        0.0   178.0            3224.0   \n",
      "...      ...     ...       ...        ...     ...               ...   \n",
      "22730     26  3349.0     297.0        0.0   211.0            3052.0   \n",
      "22731     26  4100.0    1209.0        0.0   200.0            2891.0   \n",
      "22732     26  4849.0    1152.0        0.0   256.0            3697.0   \n",
      "22733     39     NaN       NaN        0.0   386.0               NaN   \n",
      "22734     26  5399.0    1086.0        0.0   299.0            4313.0   \n",
      "\n",
      "       costo_total  monto_accesorios  status  fraude  inversion  \\\n",
      "0           2106.0               0.0     NaN     0.0        0.0   \n",
      "1           2925.0               0.0     NaN     0.0        0.0   \n",
      "2           2210.0               0.0     NaN     0.0        0.0   \n",
      "3           2210.0               0.0     NaN     0.0        0.0   \n",
      "4           6942.0               0.0     1.0     0.0        0.0   \n",
      "...            ...               ...     ...     ...        ...   \n",
      "22730       5486.0               0.0     1.0     0.0        0.0   \n",
      "22731       5200.0               0.0     1.0     0.0        0.0   \n",
      "22732       6656.0               0.0     1.0     0.0        0.0   \n",
      "22733          NaN               0.0     1.0     0.0        0.0   \n",
      "22734       7774.0               0.0     1.0     0.0        NaN   \n",
      "\n",
      "       pagos_realizados  reautorizacion  puntos  porc_enganche  porc_tasa  \\\n",
      "0                   0.0             0.0    12.0            0.0        0.0   \n",
      "1                   0.0             0.0    12.0            0.0        0.0   \n",
      "2                   0.0             0.0    12.0            0.0        0.0   \n",
      "3                   0.0             0.0    12.0            0.0        0.0   \n",
      "4                   0.0             0.0     NaN            0.0        0.0   \n",
      "...                 ...             ...     ...            ...        ...   \n",
      "22730               0.0             0.0    12.0            NaN        NaN   \n",
      "22731               0.0             0.0    12.0            NaN        NaN   \n",
      "22732               0.0             0.0    12.0            NaN        NaN   \n",
      "22733               0.0             0.0    12.0            NaN        NaN   \n",
      "22734               0.0             0.0    12.0            NaN        NaN   \n",
      "\n",
      "       score_buro  \n",
      "0             0.0  \n",
      "1             0.0  \n",
      "2             0.0  \n",
      "3             0.0  \n",
      "4             0.0  \n",
      "...           ...  \n",
      "22730         0.0  \n",
      "22731         0.0  \n",
      "22732         0.0  \n",
      "22733         0.0  \n",
      "22734         0.0  \n",
      "\n",
      "[22735 rows x 17 columns]\n"
     ]
    }
   ],
   "source": [
    "y = num_df\n",
    "percentile25 = y.quantile(0.25)\n",
    "percentile75 = y.quantile(0.75)\n",
    "iqr = percentile75 - percentile25\n",
    "lower_bound = percentile25 - (1.5 * iqr)\n",
    "upper_bound = percentile75 + (1.5 * iqr)\n",
    "cleaned_data = num_df[(num_df >= lower_bound) & (num_df <= upper_bound)]\n",
    "\n",
    "print(cleaned_data)"
   ]
  },
  {
   "cell_type": "code",
   "execution_count": 21,
   "metadata": {},
   "outputs": [
    {
     "data": {
      "text/plain": [
       "<Axes: >"
      ]
     },
     "execution_count": 21,
     "metadata": {},
     "output_type": "execute_result"
    },
    {
     "data": {
      "image/png": "[encoded data removed]",
      "text/plain": [
       "<Figure size 640x480 with 1 Axes>"
      ]
     },
     "metadata": {},
     "output_type": "display_data"
    }
   ],
   "source": [
    "sns.boxplot(data=cleaned_data)"
   ]
  },
  {
   "cell_type": "code",
   "execution_count": 30,
   "metadata": {},
   "outputs": [
    {
     "name": "stdout",
     "output_type": "stream",
     "text": [
      "5922\n"
     ]
    }
   ],
   "source": [
    "print(cleaned_data.isnull().sum())"
   ]
  },
  {
   "cell_type": "code",
   "execution_count": 23,
   "metadata": {},
   "outputs": [
    {
     "name": "stdout",
     "output_type": "stream",
     "text": [
      "3935.5\n",
      "866.9\n",
      "224.5\n"
     ]
    }
   ],
   "source": [
    "x=round(cleaned_data[\"precio\"].mean(),1)\n",
    "print(x)\n",
    "cleaned_data[\"precio\"].fillna(x,inplace = True)\n",
    "y=round(cleaned_data[\"enganche\"].mean(),1)\n",
    "print(y)\n",
    "cleaned_data[\"enganche\"].fillna(y,inplace = True)\n",
    "z=round(cleaned_data[\"semana\"].mean(),1)\n",
    "print(z)\n",
    "cleaned_data[\"semana\"].fillna(z,inplace = True)"
   ]
  },
  {
   "cell_type": "code",
   "execution_count": 24,
   "metadata": {},
   "outputs": [
    {
     "name": "stdout",
     "output_type": "stream",
     "text": [
      "3001.8\n",
      "5448.5\n",
      "0.0\n"
     ]
    }
   ],
   "source": [
    "x=round(cleaned_data[\"monto_financiado\"].mean(),1)\n",
    "print(x)\n",
    "cleaned_data[\"monto_financiado\"].fillna(x,inplace = True)\n",
    "y=round(cleaned_data[\"costo_total\"].mean(),1)\n",
    "print(y)\n",
    "cleaned_data[\"costo_total\"].fillna(y,inplace = True)\n",
    "z=round(cleaned_data[\"monto_accesorios\"].mean(),1)\n",
    "print(z)\n",
    "cleaned_data[\"monto_accesorios\"].fillna(z,inplace = True)"
   ]
  },
  {
   "cell_type": "code",
   "execution_count": 25,
   "metadata": {},
   "outputs": [
    {
     "name": "stdout",
     "output_type": "stream",
     "text": [
      "1.0\n",
      "0.0\n",
      "0.0\n"
     ]
    }
   ],
   "source": [
    "x=round(cleaned_data[\"status\"].mean(),1)\n",
    "print(x)\n",
    "cleaned_data[\"status\"].fillna(x,inplace = True)\n",
    "y=round(cleaned_data[\"fraude\"].mean(),1)\n",
    "print(y)\n",
    "cleaned_data[\"fraude\"].fillna(y,inplace = True)\n",
    "z=round(cleaned_data[\"inversion\"].mean(),1)\n",
    "print(z)\n",
    "cleaned_data[\"inversion\"].fillna(z,inplace = True)"
   ]
  },
  {
   "cell_type": "code",
   "execution_count": 26,
   "metadata": {},
   "outputs": [
    {
     "name": "stdout",
     "output_type": "stream",
     "text": [
      "-0.5\n",
      "0.0\n",
      "0.0\n"
     ]
    }
   ],
   "source": [
    "x=round(cleaned_data[\"porc_enganche\"].mean(),1)\n",
    "print(x)\n",
    "cleaned_data[\"porc_enganche\"].fillna(x,inplace = True)\n",
    "y=round(cleaned_data[\"porc_tasa\"].mean(),1)\n",
    "print(y)\n",
    "cleaned_data[\"porc_tasa\"].fillna(y,inplace = True)\n",
    "z=round(cleaned_data[\"score_buro\"].mean(),1)\n",
    "print(z)\n",
    "cleaned_data[\"score_buro\"].fillna(z,inplace = True)"
   ]
  },
  {
   "cell_type": "code",
   "execution_count": 27,
   "metadata": {},
   "outputs": [
    {
     "name": "stdout",
     "output_type": "stream",
     "text": [
      "plazo                  0\n",
      "precio                 0\n",
      "enganche               0\n",
      "descuento              0\n",
      "semana                 0\n",
      "monto_financiado       0\n",
      "costo_total            0\n",
      "monto_accesorios       0\n",
      "status                 0\n",
      "fraude                 0\n",
      "inversion              0\n",
      "pagos_realizados     534\n",
      "reautorizacion       774\n",
      "puntos              4614\n",
      "porc_enganche          0\n",
      "porc_tasa              0\n",
      "score_buro             0\n",
      "dtype: int64\n"
     ]
    }
   ],
   "source": [
    "print(cleaned_data.isnull().sum())"
   ]
  },
  {
   "cell_type": "code",
   "execution_count": 28,
   "metadata": {},
   "outputs": [],
   "source": [
    "Df_colo = pd.concat([cleaned_data, cat_df], axis=1)"
   ]
  },
  {
   "cell_type": "code",
   "execution_count": 29,
   "metadata": {},
   "outputs": [],
   "source": [
    "Df_colo.to_csv(\"Credicel_Limpio2.csv\")"
   ]
  }
 ],
 "metadata": {
  "kernelspec": {
   "display_name": "Python 3",
   "language": "python",
   "name": "python3"
  },
  "language_info": {
   "codemirror_mode": {
    "name": "ipython",
    "version": 3
   },
   "file_extension": ".py",
   "mimetype": "text/x-python",
   "name": "python",
   "nbconvert_exporter": "python",
   "pygments_lexer": "ipython3",
   "version": "3.11.4"
  },
  "orig_nbformat": 4
 },
 "nbformat": 4,
 "nbformat_minor": 2
}
